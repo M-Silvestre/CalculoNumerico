{
 "cells": [
  {
   "cell_type": "markdown",
   "metadata": {},
   "source": [
    "# Métodos Abertos\n",
    "\n",
    "São aqueles em que não informamos um intervalo que sabemos que contém a raiz."
   ]
  },
  {
   "cell_type": "markdown",
   "metadata": {},
   "source": [
    "## Método de Newton-Raphson\n",
    "\n",
    "O algoritmo de iterações é:    \n",
    "    $x_{k+1} = x_{k} - \\frac{f(x_{k})}{f'(x_{k})}, k = 0,1,2,3,...$    \n",
    "Ele necessita da derivada da função $f$ além da própria função e um \"chute\" $x_{0}$"
   ]
  },
  {
   "cell_type": "code",
   "execution_count": 3,
   "metadata": {},
   "outputs": [
    {
     "data": {
      "image/png": "[encoded data removed]",
      "text/plain": [
       "<Figure size 432x288 with 1 Axes>"
      ]
     },
     "metadata": {
      "needs_background": "light"
     },
     "output_type": "display_data"
    }
   ],
   "source": [
    "import numpy as np\n",
    "import matplotlib.pyplot as plt \n",
    "\n",
    "x = np.linspace(-4,4,50)\n",
    "\n",
    "f = lambda x: x**3 -9*x + 3\n",
    "\n",
    "y = f(x)\n",
    "\n",
    "plt.plot(x,f(x))\n",
    "plt.grid(True)"
   ]
  },
  {
   "cell_type": "code",
   "execution_count": 21,
   "metadata": {},
   "outputs": [
    {
     "name": "stdout",
     "output_type": "stream",
     "text": [
      "(i = 1) f(x) = 999103.000000\n",
      "(i = 2) f(x) = 295964.609357\n",
      "(i = 3) f(x) = 87649.507077\n",
      "(i = 4) f(x) = 25941.297598\n",
      "(i = 5) f(x) = 7667.216561\n",
      "(i = 6) f(x) = 2259.195181\n",
      "(i = 7) f(x) = 661.116770\n",
      "(i = 8) f(x) = 190.412101\n",
      "(i = 9) f(x) = 52.741478\n",
      "(i = 10) f(x) = 13.134229\n",
      "(i = 11) f(x) = 2.371267\n",
      "(i = 12) f(x) = 0.163312\n",
      "(i = 13) f(x) = 0.001006\n",
      "Obtemos a raiz  aproximada 2.816914055362345 na iteração 13\n"
     ]
    }
   ],
   "source": [
    "xn = 100\n",
    "i = 1\n",
    "df = lambda x: 3*x**2 - 9\n",
    "n = 30\n",
    "erro = 0.0001\n",
    "\n",
    "while i < n:\n",
    "    xn1 = xn - f(xn)/df(xn)\n",
    "    print(\"(i = {0:d}) f(x) = {1:f}\".format(i,f(xn)))\n",
    "    if erro > abs(xn - xn1):\n",
    "        break\n",
    "    else:\n",
    "        xn = xn1\n",
    "        i += 1\n",
    "        \n",
    "print('Obtemos a raiz  aproximada',xn1,'na iteração',i)"
   ]
  },
  {
   "cell_type": "markdown",
   "metadata": {},
   "source": [
    "## Método da Secante\n",
    "\n",
    "É usado quando não temos a derivada da função $f$.    \n",
    "Como a derivada pode ser aproximada por $f'(x) \\approx \\frac{f(x_{k}) - f(x_{k-1})}{x_{k} - x_{k-1}}, k = 0,1,2,3,...$, para $x_{k}$ suficientemente próximo de $x_{k-1}$. Substituindo no Método de Newton-Raphson, temos:    \n",
    "    $x_{k+1} = \\frac{f(x_{k-1})x_{k} - f(x_{k})*x_{k-1}}{f(x_{k}) - f(x_{k-1})}, k = 0,1,2,3,...$    \n",
    "Observe que, neste caso, o método exige duas estimativas iniciais."
   ]
  },
  {
   "cell_type": "code",
   "execution_count": 20,
   "metadata": {},
   "outputs": [
    {
     "name": "stdout",
     "output_type": "stream",
     "text": [
      "(i = 1) f(x)=291514.527578\n",
      "(i = 2) f(x)=144137.228694\n",
      "(i = 3) f(x)=58654.246051\n",
      "(i = 4) f(x)=25742.982607\n",
      "(i = 5) f(x)=10967.450763\n",
      "(i = 6) f(x)=4719.908838\n",
      "(i = 7) f(x)=2018.474443\n",
      "(i = 8) f(x)=861.635195\n",
      "(i = 9) f(x)=365.302962\n",
      "(i = 10) f(x)=153.178434\n",
      "(i = 11) f(x)=62.871949\n",
      "(i = 12) f(x)=24.735986\n",
      "(i = 13) f(x)=8.899690\n",
      "(i = 14) f(x)=2.632489\n",
      "(i = 15) f(x)=0.510107\n",
      "(i = 16) f(x)=0.042683\n",
      "(i = 17) f(x)=0.000809\n",
      "(i = 18) f(x)=0.000001\n",
      "Obtemos a raiz  aproximada 2.816914142352729 na iteração 18\n"
     ]
    }
   ],
   "source": [
    "xn = 100  # Nosso x_k\n",
    "x_1 = 99  # Nosso x_(k-1)\n",
    "\n",
    "i = 1\n",
    "n = 30\n",
    "\n",
    "erro = 0.0001\n",
    "\n",
    "# Loop com o algoritmo:\n",
    "\n",
    "while i < n:\n",
    "    x1 = (f(xn)*x_1 -f(x_1)*xn)/(f(xn) - f(x_1))\n",
    "    print(\"(i = {0:d}) f(x)={1:f}\".format(i,f(x1)))\n",
    "    if erro > abs(x1 - xn):\n",
    "        break\n",
    "    else:\n",
    "        x_1 = xn\n",
    "        xn = x1        \n",
    "        i += 1\n",
    "        \n",
    "print('Obtemos a raiz  aproximada',x1,'na iteração',i)"
   ]
  },
  {
   "cell_type": "code",
   "execution_count": null,
   "metadata": {},
   "outputs": [],
   "source": []
  }
 ],
 "metadata": {
  "kernelspec": {
   "display_name": "Python 3",
   "language": "python",
   "name": "python3"
  },
  "language_info": {
   "codemirror_mode": {
    "name": "ipython",
    "version": 3
   },
   "file_extension": ".py",
   "mimetype": "text/x-python",
   "name": "python",
   "nbconvert_exporter": "python",
   "pygments_lexer": "ipython3",
   "version": "3.7.0"
  }
 },
 "nbformat": 4,
 "nbformat_minor": 2
}
